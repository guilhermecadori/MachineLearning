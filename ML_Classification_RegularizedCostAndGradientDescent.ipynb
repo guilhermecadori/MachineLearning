{
 "cells": [
  {
   "cell_type": "code",
   "execution_count": 3,
   "id": "8f43a32f",
   "metadata": {},
   "outputs": [],
   "source": [
    "# Supporting libs\n",
    "import numpy as np\n",
    "\n",
    "# Adding sigmoid function\n",
    "# GC: This was implemented previously and will be used here again\n",
    "def sigmoid(Z):\n",
    "\n",
    "    g = 1 / (1 + np.exp(-Z))\n",
    "    \n",
    "    return g\n",
    "\n",
    "# Linear regression regularized cost function calculation\n",
    "def regularizedCostFn_LinearReg(x, y, w, b, lambda_ = 1):\n",
    "    \n",
    "    # Setting values of m and n\n",
    "    m = x.shape[0]\n",
    "    n = len(w)\n",
    "    \n",
    "    # Setting starting cost = 0 \n",
    "    cost = 0\n",
    "    \n",
    "    # Calculating y_hat for all m examples\n",
    "    for i in range(m):\n",
    "        f_wb_i = np.dot(x[i], w) + b\n",
    "        \n",
    "        # Calculating the total cost by acumulating the square of errors\n",
    "        cost = cost + (f_wb_i - y[i])**2\n",
    "    cost = cost / (2 * m)\n",
    "    \n",
    "    # Setting starting regularized cost to 0\n",
    "    regularized_cost = 0\n",
    "    \n",
    "    # Updates regularized_cost object that acumulates the squared of the loss for each example\n",
    "    for j in range(n):\n",
    "        regularized_cost += (w[j]**2)\n",
    "    \n",
    "    # Calculates regularized cost\n",
    "    regularized_cost = (lambda_ / (2 * m)) * regularized_cost\n",
    "    \n",
    "    # Calculates final J_wb cost function value by summing squared error with regularization term\n",
    "    total_cost = cost + regularized_cost\n",
    "    \n",
    "    return total_cost\n"
   ]
  },
  {
   "cell_type": "code",
   "execution_count": 5,
   "id": "8810dca5",
   "metadata": {},
   "outputs": [
    {
     "name": "stdout",
     "output_type": "stream",
     "text": [
      "Regularized cost: 0.07917239320214275\n"
     ]
    }
   ],
   "source": [
    "# Testing function\n",
    "np.random.seed(1)\n",
    "X_tmp = np.random.rand(5,6)\n",
    "y_tmp = np.array([0,1,0,1,0])\n",
    "w_tmp = np.random.rand(X_tmp.shape[1]).reshape(-1,)-0.5\n",
    "b_tmp = 0.5\n",
    "lambda_tmp = 0.7\n",
    "cost_tmp = regularizedCostFn_LinearReg(X_tmp, y_tmp, w_tmp, b_tmp, lambda_tmp)\n",
    "\n",
    "print(\"Regularized cost:\", cost_tmp)\n"
   ]
  },
  {
   "cell_type": "code",
   "execution_count": 12,
   "id": "21637c5e",
   "metadata": {},
   "outputs": [],
   "source": [
    "# Logistic regression regularized cost function calculation\n",
    "def regularizedCostFn_LogisticReg(x, y, w, b, lambda_ = 1):\n",
    "    \n",
    "    m, n  = x.shape\n",
    "    \n",
    "    cost = 0\n",
    "    \n",
    "    for i in range(m):\n",
    "        \n",
    "        z_i = np.dot(x[i], w) + b\n",
    "        \n",
    "        f_wb_i = sigmoid(z_i)\n",
    "        \n",
    "        # Logistic regression cost function\n",
    "        # This is the combined function CONVEX function for y = 1 and y = 0\n",
    "        cost += -y[i] * np.log(f_wb_i) - (1-y[i]) * np.log(1-f_wb_i)      \n",
    "             \n",
    "    cost = cost / m                                                      \n",
    "\n",
    "    reg_cost = 0\n",
    "    \n",
    "    for j in range(n):\n",
    "        reg_cost += (w[j]**2)  \n",
    "    \n",
    "    # Computing the regularization term\n",
    "    reg_cost = (lambda_ / (2 * m)) * reg_cost                             \n",
    "    \n",
    "    # Calcualtint J_wb cost function value\n",
    "    total_cost = cost + reg_cost    \n",
    "    \n",
    "    return total_cost   \n"
   ]
  },
  {
   "cell_type": "code",
   "execution_count": 13,
   "id": "f7c4d66e",
   "metadata": {},
   "outputs": [
    {
     "name": "stdout",
     "output_type": "stream",
     "text": [
      "Regularized cost: 0.6850849138741673\n"
     ]
    }
   ],
   "source": [
    "# Testing function\n",
    "np.random.seed(1)\n",
    "X_tmp = np.random.rand(5,6)\n",
    "y_tmp = np.array([0,1,0,1,0])\n",
    "w_tmp = np.random.rand(X_tmp.shape[1]).reshape(-1,)-0.5\n",
    "b_tmp = 0.5\n",
    "lambda_tmp = 0.7\n",
    "cost_tmp = compute_cost_logistic_reg(X_tmp, y_tmp, w_tmp, b_tmp, lambda_tmp)\n",
    "\n",
    "print(\"Regularized cost:\", cost_tmp)\n"
   ]
  },
  {
   "cell_type": "code",
   "execution_count": 21,
   "id": "0eeec600",
   "metadata": {},
   "outputs": [],
   "source": [
    "# Regularized Gradient Descent for linear regression\n",
    "def reg_gradientDescent_linearReg(X, y, w, b, lambda_): \n",
    "\n",
    "    m, n = X.shape   \n",
    "    \n",
    "    dj_dw = np.zeros((n,))\n",
    "    \n",
    "    dj_db = 0\n",
    "\n",
    "    for i in range(m):                             \n",
    "        err = (np.dot(X[i], w) + b) - y[i]                 \n",
    "        \n",
    "        for j in range(n):                         \n",
    "            dj_dw[j] = dj_dw[j] + err * X[i, j]               \n",
    "        \n",
    "        dj_db = dj_db + err                        \n",
    "    \n",
    "    dj_dw = dj_dw / m                                \n",
    "    \n",
    "    dj_db = dj_db / m   \n",
    "    \n",
    "    for j in range(n):\n",
    "        dj_dw[j] = dj_dw[j] + (lambda_ / m) * w[j]\n",
    "\n",
    "    return dj_db, dj_dw\n"
   ]
  },
  {
   "cell_type": "code",
   "execution_count": 22,
   "id": "944d4602",
   "metadata": {},
   "outputs": [
    {
     "name": "stdout",
     "output_type": "stream",
     "text": [
      "dj_db: 0.6648774569425727\n",
      "Regularized dj_dw:\n",
      " [0.29653214748822276, 0.4911679625918033, 0.21645877535865857]\n"
     ]
    }
   ],
   "source": [
    "# Testing function\n",
    "np.random.seed(1)\n",
    "X_tmp = np.random.rand(5,3)\n",
    "y_tmp = np.array([0,1,0,1,0])\n",
    "w_tmp = np.random.rand(X_tmp.shape[1])\n",
    "b_tmp = 0.5\n",
    "lambda_tmp = 0.7\n",
    "dj_db_tmp, dj_dw_tmp =  reg_gradientDescent_linearReg(X_tmp, y_tmp, w_tmp, b_tmp, lambda_tmp)\n",
    "\n",
    "print(f\"dj_db: {dj_db_tmp}\", )\n",
    "print(f\"Regularized dj_dw:\\n {dj_dw_tmp.tolist()}\", )\n"
   ]
  },
  {
   "cell_type": "code",
   "execution_count": 25,
   "id": "4bfa69be",
   "metadata": {},
   "outputs": [],
   "source": [
    "# Regularized Gradient Descent for logistic regression\n",
    "def reg_gradientDescent_logisticReg(X, y, w, b, lambda_): \n",
    "\n",
    "    m, n = X.shape\n",
    "    dj_dw = np.zeros((n,))                            \n",
    "    dj_db = 0                                      \n",
    "\n",
    "    for i in range(m):\n",
    "        f_wb_i = sigmoid(np.dot(X[i], w) + b)          \n",
    "        err_i  = f_wb_i  - y[i]                       \n",
    "        for j in range(n):\n",
    "            dj_dw[j] = dj_dw[j] + err_i * X[i,j]     \n",
    "        dj_db = dj_db + err_i\n",
    "    dj_dw = dj_dw / m                                  \n",
    "    dj_db = dj_db / m                                   \n",
    "\n",
    "    for j in range(n):\n",
    "        dj_dw[j] = dj_dw[j] + (lambda_ / m) * w[j]\n",
    "\n",
    "    return dj_db, dj_dw  \n"
   ]
  },
  {
   "cell_type": "code",
   "execution_count": 24,
   "id": "1219edd5",
   "metadata": {},
   "outputs": [
    {
     "name": "stdout",
     "output_type": "stream",
     "text": [
      "dj_db: 0.341798994972791\n",
      "Regularized dj_dw:\n",
      " [0.17380012933994293, 0.32007507881566943, 0.10776313396851499]\n"
     ]
    }
   ],
   "source": [
    "# Testing function\n",
    "np.random.seed(1)\n",
    "X_tmp = np.random.rand(5,3)\n",
    "y_tmp = np.array([0,1,0,1,0])\n",
    "w_tmp = np.random.rand(X_tmp.shape[1])\n",
    "b_tmp = 0.5\n",
    "lambda_tmp = 0.7\n",
    "dj_db_tmp, dj_dw_tmp =  reg_gradientDescent_logisticReg(X_tmp, y_tmp, w_tmp, b_tmp, lambda_tmp)\n",
    "\n",
    "print(f\"dj_db: {dj_db_tmp}\", )\n",
    "print(f\"Regularized dj_dw:\\n {dj_dw_tmp.tolist()}\", )"
   ]
  },
  {
   "cell_type": "markdown",
   "id": "6a13e694",
   "metadata": {},
   "source": [
    "### End"
   ]
  }
 ],
 "metadata": {
  "kernelspec": {
   "display_name": "Python 3 (ipykernel)",
   "language": "python",
   "name": "python3"
  },
  "language_info": {
   "codemirror_mode": {
    "name": "ipython",
    "version": 3
   },
   "file_extension": ".py",
   "mimetype": "text/x-python",
   "name": "python",
   "nbconvert_exporter": "python",
   "pygments_lexer": "ipython3",
   "version": "3.9.13"
  }
 },
 "nbformat": 4,
 "nbformat_minor": 5
}
