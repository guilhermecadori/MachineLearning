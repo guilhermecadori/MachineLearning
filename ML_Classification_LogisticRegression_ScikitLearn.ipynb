{
 "cells": [
  {
   "cell_type": "code",
   "execution_count": 1,
   "id": "a2fd60cb",
   "metadata": {},
   "outputs": [
    {
     "data": {
      "text/plain": [
       "LogisticRegression()"
      ]
     },
     "execution_count": 1,
     "metadata": {},
     "output_type": "execute_result"
    }
   ],
   "source": [
    "# Training a Logistic Regrssion model with scikit-learn\n",
    "\n",
    "# Support libs\n",
    "import numpy as np\n",
    "\n",
    "x = np.array([[0.5, 1.5], [1,1], [1.5, 0.5], [3, 0.5], [2, 2], [1, 2.5]])\n",
    "y = np.array([0, 0, 0, 1, 1, 1])\n",
    "\n",
    "# Importing scikit-learn lib\n",
    "from sklearn.linear_model import LogisticRegression\n",
    "\n",
    "# Creating a model object\n",
    "logiReg_model = LogisticRegression()\n",
    "\n",
    "# Fitting the model\n",
    "logiReg_model.fit(x, y)\n"
   ]
  },
  {
   "cell_type": "code",
   "execution_count": 3,
   "id": "efaf7eda",
   "metadata": {},
   "outputs": [
    {
     "name": "stdout",
     "output_type": "stream",
     "text": [
      "Model predictions: [0 0 0 1 1 1]\n"
     ]
    }
   ],
   "source": [
    "# Creating predictions\n",
    "y_pred = logiReg_model.predict(x)\n",
    "\n",
    "print('Model predictions:', y_pred)\n"
   ]
  },
  {
   "cell_type": "code",
   "execution_count": 4,
   "id": "5a2358f9",
   "metadata": {},
   "outputs": [
    {
     "name": "stdout",
     "output_type": "stream",
     "text": [
      "Model accuracy on training set: 1.0\n"
     ]
    }
   ],
   "source": [
    "# Calculating model accuracy\n",
    "print('Model accuracy on training set:', logiReg_model.score(x, y))\n"
   ]
  },
  {
   "cell_type": "markdown",
   "id": "cc15fc0d",
   "metadata": {},
   "source": [
    "### End"
   ]
  }
 ],
 "metadata": {
  "kernelspec": {
   "display_name": "Python 3 (ipykernel)",
   "language": "python",
   "name": "python3"
  },
  "language_info": {
   "codemirror_mode": {
    "name": "ipython",
    "version": 3
   },
   "file_extension": ".py",
   "mimetype": "text/x-python",
   "name": "python",
   "nbconvert_exporter": "python",
   "pygments_lexer": "ipython3",
   "version": "3.9.13"
  }
 },
 "nbformat": 4,
 "nbformat_minor": 5
}
