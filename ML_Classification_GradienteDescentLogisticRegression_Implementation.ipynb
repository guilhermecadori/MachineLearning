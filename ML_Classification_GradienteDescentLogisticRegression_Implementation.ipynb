{
 "cells": [
  {
   "cell_type": "code",
   "execution_count": 1,
   "id": "40502ca7",
   "metadata": {},
   "outputs": [],
   "source": [
    "# Supporting lib\n",
    "import numpy as np\n",
    "import copy, math\n",
    "\n",
    "# We will need to use the sigmoid function in order to optimize the Cost Function\n",
    "# Implementation of the sigmoid function (logistic funtion)\n",
    "def sigmoid(z):\n",
    "        \n",
    "    # Imports supporting library if this fn. is reused without previously calling 'numpy'\n",
    "    g = 1 / (1 + np.exp(-z))\n",
    "        \n",
    "    return g\n",
    "\n",
    "# Implementing the calculation of the current Gradient for 'w' and 'b'\n",
    "def gradientCalculation_LogisticRegression(X, y, w, b):\n",
    "\n",
    "    # Extracting the dimensions of 'x' and attributing to 'm' (# of records) and 'n' (# of parameters)\n",
    "    # Gradient of the of the cost with respect to the 'w' parameters\n",
    "    # Gradient of the of the cost with respect to the 'b' parameter\n",
    "    m,n = X.shape\n",
    "    dj_dw = np.zeros((n,))                           #(n,)\n",
    "    dj_db = 0.0\n",
    "\n",
    "    for i in range(m):\n",
    "        f_wb_i = sigmoid(np.dot(X[i],w) + b)          #(n,)(n,)=scalar\n",
    "        err_i  = f_wb_i  - y[i]                       #scalar\n",
    "        for j in range(n):\n",
    "            dj_dw[j] = dj_dw[j] + err_i * X[i,j]      #scalar\n",
    "        dj_db = dj_db + err_i\n",
    "    dj_dw = dj_dw/m                                   #(n,)\n",
    "    dj_db = dj_db/m                                   #scalar\n",
    "        \n",
    "    return dj_db, dj_dw\n"
   ]
  },
  {
   "cell_type": "code",
   "execution_count": 2,
   "id": "a36420f7",
   "metadata": {},
   "outputs": [
    {
     "name": "stdout",
     "output_type": "stream",
     "text": [
      "dj_db: 0.49861806546328574\n",
      "dj_dw: [0.498333393278696, 0.49883942983996693]\n"
     ]
    }
   ],
   "source": [
    "# Testing the function\n",
    "X_tmp = np.array([[0.5, 1.5], [1,1], [1.5, 0.5], [3, 0.5], [2, 2], [1, 2.5]])\n",
    "y_tmp = np.array([0, 0, 0, 1, 1, 1])\n",
    "w_tmp = np.array([2.,3.])\n",
    "b_tmp = 1.0\n",
    "dj_db_tmp, dj_dw_tmp = gradientCalculation_LogisticRegression(X_tmp, y_tmp, w_tmp, b_tmp)\n",
    "\n",
    "print(f\"dj_db: {dj_db_tmp}\" )\n",
    "print(f\"dj_dw: {dj_dw_tmp.tolist()}\" )\n"
   ]
  },
  {
   "cell_type": "code",
   "execution_count": 5,
   "id": "48407376",
   "metadata": {},
   "outputs": [],
   "source": [
    "# Gradient Descent implementation\n",
    "def gradientDescent_LogisticRegression(X, y, w_in, b_in, alpha, num_iters):\n",
    "    \n",
    "    # An array to store cost J and w's at each iteration primarily for graphing later\n",
    "    J_history = []\n",
    "    w = copy.deepcopy(w_in)  #avoid modifying global w within function\n",
    "    b = b_in\n",
    "    \n",
    "    for i in range(num_iters):\n",
    "        # Calculate the gradient and update the parameters\n",
    "        dj_db, dj_dw = gradientCalculation_LogisticRegression(X, y, w, b)   \n",
    "\n",
    "        # Update Parameters using w, b, alpha and gradient\n",
    "        w = w - alpha * dj_dw               \n",
    "        b = b - alpha * dj_db               \n",
    "      \n",
    "        # Save cost J at each iteration\n",
    "        if i<100000:      # prevent resource exhaustion \n",
    "            J_history.append( gradientCalculation_LogisticRegression(X, y, w, b) )\n",
    "\n",
    "        # Print cost every at intervals 10 times or as many iterations if < 10\n",
    "        if i% math.ceil(num_iters / 10) == 0:\n",
    "            print(f\"Iteration {i:4d}: Cost {J_history[-1]}   \")\n",
    "        \n",
    "    return w, b, J_history         #return final w,b and J history for graphing\n"
   ]
  },
  {
   "cell_type": "code",
   "execution_count": 6,
   "id": "e394937a",
   "metadata": {},
   "outputs": [
    {
     "name": "stdout",
     "output_type": "stream",
     "text": [
      "Iteration    0: Cost (0.014924742767851254, array([-0.22449108, -0.14601523]))   \n",
      "Iteration 1000: Cost (0.03292263785587346, array([-0.01154724, -0.01179442]))   \n",
      "Iteration 2000: Cost (0.017933890941894477, array([-0.00639134, -0.0064637 ]))   \n",
      "Iteration 3000: Cost (0.01219290340280725, array([-0.00437133, -0.00440444]))   \n",
      "Iteration 4000: Cost (0.009205288270528337, array([-0.00331049, -0.00332914]))   \n",
      "Iteration 5000: Cost (0.007382936755160792, array([-0.00266019, -0.00267204]))   \n",
      "Iteration 6000: Cost (0.006158304660621156, array([-0.00222181, -0.00222997]))   \n",
      "Iteration 7000: Cost (0.005279886586599484, array([-0.00190669, -0.00191261]))   \n",
      "Iteration 8000: Cost (0.004619558128642703, array([-0.00166943, -0.00167391]))   \n",
      "Iteration 9000: Cost (0.0041053232770014575, array([-0.00148444, -0.00148794]))   \n",
      "\n",
      "Updated parameters: w:[5.28123029 5.07815608], b:-14.222409982019837\n"
     ]
    }
   ],
   "source": [
    "X_train = np.array([[0.5, 1.5], [1,1], [1.5, 0.5], [3, 0.5], [2, 2], [1, 2.5]])\n",
    "y_train = np.array([0, 0, 0, 1, 1, 1])\n",
    "w_tmp  = np.zeros_like(X_train[0])\n",
    "b_tmp  = 0.\n",
    "alph = 0.1\n",
    "iters = 10000\n",
    "\n",
    "w_out, b_out, _ = gradientDescent_LogisticRegression(X_train, y_train, w_tmp, b_tmp, alph, iters) \n",
    "print(f\"\\nUpdated parameters: w:{w_out}, b:{b_out}\")\n"
   ]
  },
  {
   "cell_type": "markdown",
   "id": "8d4774a4",
   "metadata": {},
   "source": [
    "### End"
   ]
  },
  {
   "cell_type": "code",
   "execution_count": null,
   "id": "8e1e18a8",
   "metadata": {},
   "outputs": [],
   "source": []
  }
 ],
 "metadata": {
  "kernelspec": {
   "display_name": "Python 3 (ipykernel)",
   "language": "python",
   "name": "python3"
  },
  "language_info": {
   "codemirror_mode": {
    "name": "ipython",
    "version": 3
   },
   "file_extension": ".py",
   "mimetype": "text/x-python",
   "name": "python",
   "nbconvert_exporter": "python",
   "pygments_lexer": "ipython3",
   "version": "3.9.13"
  }
 },
 "nbformat": 4,
 "nbformat_minor": 5
}
