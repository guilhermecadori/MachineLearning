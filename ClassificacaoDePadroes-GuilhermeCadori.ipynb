{
 "cells": [
  {
   "cell_type": "markdown",
   "id": "89a48fd3",
   "metadata": {},
   "source": [
    "### Implementação do Algoritmo Perceptron"
   ]
  },
  {
   "cell_type": "markdown",
   "id": "ce34da14",
   "metadata": {},
   "source": [
    "**Autor:** Guilherme Cadori \n",
    "\n",
    "**Data:** 10/03/2024\n"
   ]
  },
  {
   "cell_type": "markdown",
   "id": "9073cf12",
   "metadata": {},
   "source": [
    "### Classificação de Padrões (Atividade 1.1)"
   ]
  },
  {
   "cell_type": "code",
   "execution_count": 1,
   "id": "f6735f35",
   "metadata": {},
   "outputs": [],
   "source": [
    "# Importando bibliotecas de trabalho\n",
    "import numpy as np\n"
   ]
  },
  {
   "cell_type": "code",
   "execution_count": 2,
   "id": "25a7db36",
   "metadata": {},
   "outputs": [],
   "source": [
    "# Criando dados\n",
    "# Criando x1 e x2 como uma matriz de inputs, na qual coluna 1 = x1 e coluna 2 = x2\n",
    "X = np.array([[0.75, 0.75],\n",
    "              [0.75, 0.25],\n",
    "              [0.25, 0.75],\n",
    "              [0.25, 0.25]])\n",
    "\n",
    "# Criando vetor de alvos\n",
    "y = np.array([1, 0, 0, 1]) # Assuma A = 1 e B = 0\n"
   ]
  },
  {
   "cell_type": "code",
   "execution_count": 3,
   "id": "1c310832",
   "metadata": {},
   "outputs": [],
   "source": [
    "# Criando uma função para o algoritmo Perceptron\n",
    "def perceptron(X, y, w1=0, w2=0, teta=0, alpha=1, delta=0.2, epsilon=0.001, max_iters=20):\n",
    "    \n",
    "    # Inicializando contador de iterações\n",
    "    iteracao = 1\n",
    "    # Inicializando o erro com um valor elevado\n",
    "    erro = 100\n",
    "    # Definindo a dimensão m de X para o loop\n",
    "    m = X.shape[0]\n",
    "    # Inicializando pesos no formato correto\n",
    "    w = np.array([w1, w2])\n",
    "    \n",
    "    # Loop principal de calculo dos valores estimados (y_hat) e ajuste dos parâmetros\n",
    "    while iteracao < max_iters+1:\n",
    "        \n",
    "        # Calculando y_hat para cada par de entradas da matriz X\n",
    "        for i in range(m):\n",
    "            # Calculando y_hat\n",
    "            y_hat = (X[i] @ w) + teta\n",
    "\n",
    "            # Atribuindo valores a y_hat de acordo com parâmetro de decisão 'teta'\n",
    "            y_hat = np.where(y_hat > delta, 1, np.where(y_hat < delta, -1, 0))\n",
    "        \n",
    "            # Atribuindo valores a y_hat de acordo com parâmetro de decisão 'delta'\n",
    "            y_hat = np.where(y_hat > delta, 1, np.where(y_hat < delta, -1, 0))\n",
    "\n",
    "            # Calculando erro\n",
    "            erro = np.count_nonzero(y_hat != y) / len(y)\n",
    "            \n",
    "            # Verificando critério de parada baseado no erro\n",
    "            if erro <= epsilon:\n",
    "                print('Ajuste de parâmetros concluído.\\n')\n",
    "                print(f\"Os valores dos parâmetros são: w1={w[0]}, w2={w[1]}, teta={teta}.\")\n",
    "\n",
    "                return\n",
    "            \n",
    "            # Ajustando o valor dos parâmetros\n",
    "            if np.any(y_hat != y):\n",
    "                w = w + (X[i] * alpha)\n",
    "                teta = teta + alpha\n",
    "            else:\n",
    "                w = w\n",
    "                teta = teta\n",
    "            \n",
    "        print(f\"Iteração {iteracao:<5} | Erro: {erro:<5} | w1: {w[0]:<5} w2: {w[1]:<5} | teta: {teta:<5} |\")\n",
    "\n",
    "        # Atualizando contador de iterações\n",
    "        iteracao += 1\n",
    "\n",
    "    # Limite de iterações atingido\n",
    "    erroPercent = round(erro * 100, 1)\n",
    "    print('\\nLimite de iterações alcançado.\\n')\n",
    "    print(f\"Erro final de {erroPercent}% após {iteracao-1} iterações.\\n\")\n",
    "    print('Os parâmentro finais são:')\n",
    "    print(f\"    w   : {w}\")\n",
    "    print(f\"    teta: {teta}\")\n",
    "\n",
    "    return\n"
   ]
  },
  {
   "cell_type": "code",
   "execution_count": 4,
   "id": "767df67f",
   "metadata": {},
   "outputs": [
    {
     "name": "stdout",
     "output_type": "stream",
     "text": [
      "Iteração 1     | Erro: 0.5   | w1: 2.0   w2: 2.0   | teta: 4     |\n",
      "Iteração 2     | Erro: 0.5   | w1: 4.0   w2: 4.0   | teta: 8     |\n",
      "Iteração 3     | Erro: 0.5   | w1: 6.0   w2: 6.0   | teta: 12    |\n",
      "Iteração 4     | Erro: 0.5   | w1: 8.0   w2: 8.0   | teta: 16    |\n",
      "Iteração 5     | Erro: 0.5   | w1: 10.0  w2: 10.0  | teta: 20    |\n",
      "Iteração 6     | Erro: 0.5   | w1: 12.0  w2: 12.0  | teta: 24    |\n",
      "Iteração 7     | Erro: 0.5   | w1: 14.0  w2: 14.0  | teta: 28    |\n",
      "Iteração 8     | Erro: 0.5   | w1: 16.0  w2: 16.0  | teta: 32    |\n",
      "Iteração 9     | Erro: 0.5   | w1: 18.0  w2: 18.0  | teta: 36    |\n",
      "Iteração 10    | Erro: 0.5   | w1: 20.0  w2: 20.0  | teta: 40    |\n",
      "Iteração 11    | Erro: 0.5   | w1: 22.0  w2: 22.0  | teta: 44    |\n",
      "Iteração 12    | Erro: 0.5   | w1: 24.0  w2: 24.0  | teta: 48    |\n",
      "Iteração 13    | Erro: 0.5   | w1: 26.0  w2: 26.0  | teta: 52    |\n",
      "Iteração 14    | Erro: 0.5   | w1: 28.0  w2: 28.0  | teta: 56    |\n",
      "Iteração 15    | Erro: 0.5   | w1: 30.0  w2: 30.0  | teta: 60    |\n",
      "Iteração 16    | Erro: 0.5   | w1: 32.0  w2: 32.0  | teta: 64    |\n",
      "Iteração 17    | Erro: 0.5   | w1: 34.0  w2: 34.0  | teta: 68    |\n",
      "Iteração 18    | Erro: 0.5   | w1: 36.0  w2: 36.0  | teta: 72    |\n",
      "Iteração 19    | Erro: 0.5   | w1: 38.0  w2: 38.0  | teta: 76    |\n",
      "Iteração 20    | Erro: 0.5   | w1: 40.0  w2: 40.0  | teta: 80    |\n",
      "\n",
      "Limite de iterações alcançado.\n",
      "\n",
      "Erro final de 50.0% após 20 iterações.\n",
      "\n",
      "Os parâmentro finais são:\n",
      "    w   : [40. 40.]\n",
      "    teta: 80\n"
     ]
    }
   ],
   "source": [
    "# Testando a função\n",
    "perceptron(X=X, y=y)\n"
   ]
  },
  {
   "cell_type": "markdown",
   "id": "67ae519a",
   "metadata": {},
   "source": [
    "### Classificação de Padrões (Atividade 1.2)"
   ]
  },
  {
   "cell_type": "markdown",
   "id": "07d05e9d",
   "metadata": {},
   "source": [
    "#### Conjunto de Treinamento"
   ]
  },
  {
   "cell_type": "code",
   "execution_count": 5,
   "id": "d2023eb7",
   "metadata": {},
   "outputs": [],
   "source": [
    "# Criando dados\n",
    "# Criando x1 e x2 como uma matriz de inputs, na qual coluna 1 = x1 e coluna 2 = x2\n",
    "X = np.array([[0, 1],\n",
    "              [0, 2],\n",
    "              [1, 1],\n",
    "              [1, 2],\n",
    "              [1, 3],\n",
    "              [2, 2],\n",
    "              [2, 3],\n",
    "              [3, 2],\n",
    "              [4, 1],\n",
    "              [4, 3],\n",
    "              [0, 3],\n",
    "              [2, 0],\n",
    "              [2, 1],\n",
    "              [3, 0],\n",
    "              [3, 1],\n",
    "              [3, 3],\n",
    "              [4, 0],\n",
    "              [4, 2],\n",
    "              [5, 0],\n",
    "              [5, 1],\n",
    "              [5, 2],\n",
    "              [5, 3]])\n",
    "\n",
    "# Criando vetor de alvos\n",
    "y = np.array([1, 1, 1, 1, 1, 1, 1, 1, 1, 1, 1, 0, 1, 0, 1, 3, 0, 2, 0, 1, 2, 3])\n"
   ]
  },
  {
   "cell_type": "code",
   "execution_count": 6,
   "id": "a2c7dc94",
   "metadata": {
    "scrolled": false
   },
   "outputs": [
    {
     "name": "stdout",
     "output_type": "stream",
     "text": [
      "Iteração 1     | Erro: 0.36363636363636365 | w1: 59    w2: 36    | teta: 22    |\n",
      "Iteração 2     | Erro: 0.36363636363636365 | w1: 118   w2: 72    | teta: 44    |\n",
      "Iteração 3     | Erro: 0.36363636363636365 | w1: 177   w2: 108   | teta: 66    |\n",
      "Iteração 4     | Erro: 0.36363636363636365 | w1: 236   w2: 144   | teta: 88    |\n",
      "Iteração 5     | Erro: 0.36363636363636365 | w1: 295   w2: 180   | teta: 110   |\n",
      "Iteração 6     | Erro: 0.36363636363636365 | w1: 354   w2: 216   | teta: 132   |\n",
      "Iteração 7     | Erro: 0.36363636363636365 | w1: 413   w2: 252   | teta: 154   |\n",
      "Iteração 8     | Erro: 0.36363636363636365 | w1: 472   w2: 288   | teta: 176   |\n",
      "Iteração 9     | Erro: 0.36363636363636365 | w1: 531   w2: 324   | teta: 198   |\n",
      "Iteração 10    | Erro: 0.36363636363636365 | w1: 590   w2: 360   | teta: 220   |\n",
      "Iteração 11    | Erro: 0.36363636363636365 | w1: 649   w2: 396   | teta: 242   |\n",
      "Iteração 12    | Erro: 0.36363636363636365 | w1: 708   w2: 432   | teta: 264   |\n",
      "Iteração 13    | Erro: 0.36363636363636365 | w1: 767   w2: 468   | teta: 286   |\n",
      "Iteração 14    | Erro: 0.36363636363636365 | w1: 826   w2: 504   | teta: 308   |\n",
      "Iteração 15    | Erro: 0.36363636363636365 | w1: 885   w2: 540   | teta: 330   |\n",
      "Iteração 16    | Erro: 0.36363636363636365 | w1: 944   w2: 576   | teta: 352   |\n",
      "Iteração 17    | Erro: 0.36363636363636365 | w1: 1003  w2: 612   | teta: 374   |\n",
      "Iteração 18    | Erro: 0.36363636363636365 | w1: 1062  w2: 648   | teta: 396   |\n",
      "Iteração 19    | Erro: 0.36363636363636365 | w1: 1121  w2: 684   | teta: 418   |\n",
      "Iteração 20    | Erro: 0.36363636363636365 | w1: 1180  w2: 720   | teta: 440   |\n",
      "Iteração 21    | Erro: 0.36363636363636365 | w1: 1239  w2: 756   | teta: 462   |\n",
      "Iteração 22    | Erro: 0.36363636363636365 | w1: 1298  w2: 792   | teta: 484   |\n",
      "Iteração 23    | Erro: 0.36363636363636365 | w1: 1357  w2: 828   | teta: 506   |\n",
      "Iteração 24    | Erro: 0.36363636363636365 | w1: 1416  w2: 864   | teta: 528   |\n",
      "Iteração 25    | Erro: 0.36363636363636365 | w1: 1475  w2: 900   | teta: 550   |\n",
      "Iteração 26    | Erro: 0.36363636363636365 | w1: 1534  w2: 936   | teta: 572   |\n",
      "Iteração 27    | Erro: 0.36363636363636365 | w1: 1593  w2: 972   | teta: 594   |\n",
      "Iteração 28    | Erro: 0.36363636363636365 | w1: 1652  w2: 1008  | teta: 616   |\n",
      "Iteração 29    | Erro: 0.36363636363636365 | w1: 1711  w2: 1044  | teta: 638   |\n",
      "Iteração 30    | Erro: 0.36363636363636365 | w1: 1770  w2: 1080  | teta: 660   |\n",
      "Iteração 31    | Erro: 0.36363636363636365 | w1: 1829  w2: 1116  | teta: 682   |\n",
      "Iteração 32    | Erro: 0.36363636363636365 | w1: 1888  w2: 1152  | teta: 704   |\n",
      "Iteração 33    | Erro: 0.36363636363636365 | w1: 1947  w2: 1188  | teta: 726   |\n",
      "Iteração 34    | Erro: 0.36363636363636365 | w1: 2006  w2: 1224  | teta: 748   |\n",
      "Iteração 35    | Erro: 0.36363636363636365 | w1: 2065  w2: 1260  | teta: 770   |\n",
      "\n",
      "Limite de iterações alcançado.\n",
      "\n",
      "Erro final de 36.4% após 35 iterações.\n",
      "\n",
      "Os parâmentro finais são:\n",
      "    w   : [2065 1260]\n",
      "    teta: 770\n"
     ]
    }
   ],
   "source": [
    "# Rodando o algoritmo\n",
    "perceptron(X=X, y=y, max_iters=35)\n"
   ]
  },
  {
   "cell_type": "markdown",
   "id": "b01e34a3",
   "metadata": {},
   "source": [
    "#### Conjunto de Teste"
   ]
  },
  {
   "cell_type": "code",
   "execution_count": 7,
   "id": "ea9f45f1",
   "metadata": {},
   "outputs": [],
   "source": [
    "# Criando dados\n",
    "# Criando x1 e x2 como uma matriz de inputs, na qual coluna 1 = x1 e coluna 2 = x2\n",
    "X = np.array([[0  , 0  ],\n",
    "              [1  , 0  ],\n",
    "              [4.5, 0.5],\n",
    "              [3.5, 1.5],\n",
    "              [4  , 2.5],\n",
    "              [1.5, 1.5],\n",
    "              [2  , 0.5],\n",
    "              [2.5, 2.5]])\n",
    "\n",
    "# Criando vetor de alvos\n",
    "y = np.array([1, -1, -1, 1, 2.5, 1.5, 0.5, 2.5])\n"
   ]
  },
  {
   "cell_type": "code",
   "execution_count": 8,
   "id": "94fe4cc7",
   "metadata": {},
   "outputs": [
    {
     "name": "stdout",
     "output_type": "stream",
     "text": [
      "Iteração 1     | Erro: 0.75  | w1: 2084.0 w2: 1269.0 | teta: 778   |\n",
      "Iteração 2     | Erro: 0.75  | w1: 2103.0 w2: 1278.0 | teta: 786   |\n",
      "Iteração 3     | Erro: 0.75  | w1: 2122.0 w2: 1287.0 | teta: 794   |\n",
      "Iteração 4     | Erro: 0.75  | w1: 2141.0 w2: 1296.0 | teta: 802   |\n",
      "Iteração 5     | Erro: 0.75  | w1: 2160.0 w2: 1305.0 | teta: 810   |\n",
      "Iteração 6     | Erro: 0.75  | w1: 2179.0 w2: 1314.0 | teta: 818   |\n",
      "Iteração 7     | Erro: 0.75  | w1: 2198.0 w2: 1323.0 | teta: 826   |\n",
      "Iteração 8     | Erro: 0.75  | w1: 2217.0 w2: 1332.0 | teta: 834   |\n",
      "Iteração 9     | Erro: 0.75  | w1: 2236.0 w2: 1341.0 | teta: 842   |\n",
      "Iteração 10    | Erro: 0.75  | w1: 2255.0 w2: 1350.0 | teta: 850   |\n",
      "Iteração 11    | Erro: 0.75  | w1: 2274.0 w2: 1359.0 | teta: 858   |\n",
      "Iteração 12    | Erro: 0.75  | w1: 2293.0 w2: 1368.0 | teta: 866   |\n",
      "Iteração 13    | Erro: 0.75  | w1: 2312.0 w2: 1377.0 | teta: 874   |\n",
      "Iteração 14    | Erro: 0.75  | w1: 2331.0 w2: 1386.0 | teta: 882   |\n",
      "Iteração 15    | Erro: 0.75  | w1: 2350.0 w2: 1395.0 | teta: 890   |\n",
      "Iteração 16    | Erro: 0.75  | w1: 2369.0 w2: 1404.0 | teta: 898   |\n",
      "Iteração 17    | Erro: 0.75  | w1: 2388.0 w2: 1413.0 | teta: 906   |\n",
      "Iteração 18    | Erro: 0.75  | w1: 2407.0 w2: 1422.0 | teta: 914   |\n",
      "Iteração 19    | Erro: 0.75  | w1: 2426.0 w2: 1431.0 | teta: 922   |\n",
      "Iteração 20    | Erro: 0.75  | w1: 2445.0 w2: 1440.0 | teta: 930   |\n",
      "Iteração 21    | Erro: 0.75  | w1: 2464.0 w2: 1449.0 | teta: 938   |\n",
      "Iteração 22    | Erro: 0.75  | w1: 2483.0 w2: 1458.0 | teta: 946   |\n",
      "Iteração 23    | Erro: 0.75  | w1: 2502.0 w2: 1467.0 | teta: 954   |\n",
      "Iteração 24    | Erro: 0.75  | w1: 2521.0 w2: 1476.0 | teta: 962   |\n",
      "Iteração 25    | Erro: 0.75  | w1: 2540.0 w2: 1485.0 | teta: 970   |\n",
      "Iteração 26    | Erro: 0.75  | w1: 2559.0 w2: 1494.0 | teta: 978   |\n",
      "Iteração 27    | Erro: 0.75  | w1: 2578.0 w2: 1503.0 | teta: 986   |\n",
      "Iteração 28    | Erro: 0.75  | w1: 2597.0 w2: 1512.0 | teta: 994   |\n",
      "Iteração 29    | Erro: 0.75  | w1: 2616.0 w2: 1521.0 | teta: 1002  |\n",
      "Iteração 30    | Erro: 0.75  | w1: 2635.0 w2: 1530.0 | teta: 1010  |\n",
      "Iteração 31    | Erro: 0.75  | w1: 2654.0 w2: 1539.0 | teta: 1018  |\n",
      "Iteração 32    | Erro: 0.75  | w1: 2673.0 w2: 1548.0 | teta: 1026  |\n",
      "Iteração 33    | Erro: 0.75  | w1: 2692.0 w2: 1557.0 | teta: 1034  |\n",
      "Iteração 34    | Erro: 0.75  | w1: 2711.0 w2: 1566.0 | teta: 1042  |\n",
      "Iteração 35    | Erro: 0.75  | w1: 2730.0 w2: 1575.0 | teta: 1050  |\n",
      "\n",
      "Limite de iterações alcançado.\n",
      "\n",
      "Erro final de 75.0% após 35 iterações.\n",
      "\n",
      "Os parâmentro finais são:\n",
      "    w   : [2730. 1575.]\n",
      "    teta: 1050\n"
     ]
    }
   ],
   "source": [
    "# Rodando o algoritmo\n",
    "# Utilizando os parâmetros w1, w2 e teta obtidos através do conjuntos de treino\n",
    "perceptron(X=X, y=y, w1=2065, w2=1260, teta=770, max_iters=35)\n"
   ]
  },
  {
   "cell_type": "markdown",
   "id": "fa46a8bc",
   "metadata": {},
   "source": [
    "**Conclusão**\n",
    "\n",
    "O erro obtido com o conjuntos de teste foi consideravalmente superior ao erro do conjunto de treino. Isso se deve, majoritariamente, ao fato de que o modelo ajustado foi exposto a exemplos não vistos durante o processo de treinamento dos parâmetros. Sendo assim, concluíumos que o modelo não generaliza de forma satisfatória."
   ]
  },
  {
   "cell_type": "markdown",
   "id": "b32138dc",
   "metadata": {},
   "source": [
    "### Fim"
   ]
  }
 ],
 "metadata": {
  "kernelspec": {
   "display_name": "Python 3 (ipykernel)",
   "language": "python",
   "name": "python3"
  },
  "language_info": {
   "codemirror_mode": {
    "name": "ipython",
    "version": 3
   },
   "file_extension": ".py",
   "mimetype": "text/x-python",
   "name": "python",
   "nbconvert_exporter": "python",
   "pygments_lexer": "ipython3",
   "version": "3.9.13"
  }
 },
 "nbformat": 4,
 "nbformat_minor": 5
}
