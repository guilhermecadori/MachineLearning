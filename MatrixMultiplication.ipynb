{
 "cells": [
  {
   "cell_type": "code",
   "execution_count": 8,
   "id": "a8f27c0d",
   "metadata": {},
   "outputs": [],
   "source": [
    "import numpy as np"
   ]
  },
  {
   "cell_type": "code",
   "execution_count": 11,
   "id": "1015820a",
   "metadata": {},
   "outputs": [
    {
     "data": {
      "text/plain": [
       "array([[2, 4],\n",
       "       [4, 8]])"
      ]
     },
     "execution_count": 11,
     "metadata": {},
     "output_type": "execute_result"
    }
   ],
   "source": [
    "A = np.array([[1, -1],\n",
    "             [ 2, -2]])\n",
    "\n",
    "# Alternative for transposing A and creating A_T automatically\n",
    "A_T = A.T\n",
    "\n",
    "AA_T = np.matmul(A, A_T)\n",
    "\n",
    "AA_T\n"
   ]
  },
  {
   "cell_type": "code",
   "execution_count": 4,
   "id": "d53272ca",
   "metadata": {},
   "outputs": [
    {
     "data": {
      "text/plain": [
       "array([[2, 4],\n",
       "       [4, 8]])"
      ]
     },
     "execution_count": 4,
     "metadata": {},
     "output_type": "execute_result"
    }
   ],
   "source": [
    "A = np.array([[1, -1],\n",
    "             [ 2, -2]])\n",
    "\n",
    "A_T = np.array([[1, 2],\n",
    "               [-1, -2]])\n",
    "\n",
    "AA_T = np.matmul(A, A_T)\n",
    "\n",
    "AA_T\n"
   ]
  },
  {
   "cell_type": "code",
   "execution_count": 5,
   "id": "a7356095",
   "metadata": {},
   "outputs": [
    {
     "data": {
      "text/plain": [
       "array([[2, 4],\n",
       "       [4, 8]])"
      ]
     },
     "execution_count": 5,
     "metadata": {},
     "output_type": "execute_result"
    }
   ],
   "source": [
    "A = np.array([[1, -1],\n",
    "             [ 2, -2]])\n",
    "\n",
    "A_T = np.array([[1, 2],\n",
    "               [-1, -2]])\n",
    "\n",
    "AA_T = np.dot(A, A_T)\n",
    "\n",
    "AA_T\n"
   ]
  },
  {
   "cell_type": "code",
   "execution_count": 6,
   "id": "57dc5ab9",
   "metadata": {},
   "outputs": [
    {
     "data": {
      "text/plain": [
       "array([[2, 4],\n",
       "       [4, 8]])"
      ]
     },
     "execution_count": 6,
     "metadata": {},
     "output_type": "execute_result"
    }
   ],
   "source": [
    "A = np.array([[1, -1],\n",
    "             [ 2, -2]])\n",
    "\n",
    "A_T = np.array([[1, 2],\n",
    "               [-1, -2]])\n",
    "\n",
    "AA_T = A @ A_T\n",
    "\n",
    "AA_T\n"
   ]
  },
  {
   "cell_type": "code",
   "execution_count": null,
   "id": "c6f425cf",
   "metadata": {},
   "outputs": [],
   "source": []
  }
 ],
 "metadata": {
  "kernelspec": {
   "display_name": "Python 3 (ipykernel)",
   "language": "python",
   "name": "python3"
  },
  "language_info": {
   "codemirror_mode": {
    "name": "ipython",
    "version": 3
   },
   "file_extension": ".py",
   "mimetype": "text/x-python",
   "name": "python",
   "nbconvert_exporter": "python",
   "pygments_lexer": "ipython3",
   "version": "3.9.13"
  }
 },
 "nbformat": 4,
 "nbformat_minor": 5
}
