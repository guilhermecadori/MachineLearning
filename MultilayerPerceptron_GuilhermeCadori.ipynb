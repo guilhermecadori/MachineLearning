{
 "cells": [
  {
   "cell_type": "markdown",
   "id": "490b2eea",
   "metadata": {},
   "source": [
    "## Multilayer Perceptron - MLP Network"
   ]
  },
  {
   "cell_type": "markdown",
   "id": "f849a6e0",
   "metadata": {},
   "source": [
    "**Autor:** Guilherme Cadori\n",
    "\n",
    "**Data:** 17/03/2024\n"
   ]
  },
  {
   "cell_type": "code",
   "execution_count": 1,
   "id": "56a2313b",
   "metadata": {},
   "outputs": [],
   "source": [
    "# Importando bibliotecas de trabalho\n",
    "import numpy as np\n"
   ]
  },
  {
   "cell_type": "code",
   "execution_count": 2,
   "id": "2d1bd257",
   "metadata": {},
   "outputs": [],
   "source": [
    "# Gerando random seed\n",
    "np.random.seed(123)\n",
    "\n",
    "# Dados de treinamento\n",
    "# Criando dados\n",
    "# Criando x1 e x2 como uma matriz de inputs, na qual coluna 1 = x1 e coluna 2 = x2\n",
    "X_train = np.array([[0, 1],\n",
    "                    [0, 2],\n",
    "                    [1, 1],\n",
    "                    [1, 2],\n",
    "                    [1, 3],\n",
    "                    [2, 2],\n",
    "                    [2, 3],\n",
    "                    [3, 2],\n",
    "                    [4, 1],\n",
    "                    [4, 3],\n",
    "                    [0, 3],\n",
    "                    [2, 0],\n",
    "                    [2, 1],\n",
    "                    [3, 0],\n",
    "                    [3, 1],\n",
    "                    [3, 3],\n",
    "                    [4, 0],\n",
    "                    [4, 2],\n",
    "                    [5, 0],\n",
    "                    [5, 1],\n",
    "                    [5, 2],\n",
    "                    [5, 3]])\n",
    "\n",
    "# Criando vetor de alvos\n",
    "y_train = np.array([1, 1, 1, 1, 1, 1, 1, 1, 1, 1, 1, -1, -1, -1, -1, -1, -1, -1, -1, -1, -1, -1])\n",
    "\n"
   ]
  },
  {
   "cell_type": "code",
   "execution_count": 3,
   "id": "b29eb177",
   "metadata": {},
   "outputs": [
    {
     "name": "stdout",
     "output_type": "stream",
     "text": [
      "Forma de X: (2, 22)\n",
      "Forma de Y: (1, 22)\n",
      "Exemplos: 22\n"
     ]
    }
   ],
   "source": [
    "# Ajustando formatos\n",
    "m = X_train.shape[0]\n",
    "X_train = np.transpose(X_train)\n",
    "y_train = y_train.reshape((1, y_train.shape[0]))\n",
    "\n",
    "print ('Forma de X: ' + str(X_train.shape))\n",
    "print ('Forma de Y: ' + str(y_train.shape))\n",
    "print (f\"Exemplos: {m}\")\n"
   ]
  },
  {
   "cell_type": "code",
   "execution_count": 4,
   "id": "a72e3023",
   "metadata": {},
   "outputs": [],
   "source": [
    "# Gerando random seed para fins de repetibilidade\n",
    "np.random.seed(123)\n",
    "\n",
    "# Criando função sigmoid\n",
    "def sigmoid(z):\n",
    "    res = 1 / (1 + np.exp(-z))\n",
    "    \n",
    "    return res\n"
   ]
  },
  {
   "cell_type": "code",
   "execution_count": 5,
   "id": "f18c73c1",
   "metadata": {},
   "outputs": [],
   "source": [
    "# Criando função de definição da estrutura da rede\n",
    "def layer_sizes(X, Y):\n",
    "    # Dimensões das camadas, considerando uma unica camada oculta\n",
    "    n_x = X.shape[0]\n",
    "    n_h = 1\n",
    "    n_y = Y.shape[0]\n",
    "\n",
    "    return (n_x, n_h, n_y)\n"
   ]
  },
  {
   "cell_type": "code",
   "execution_count": 6,
   "id": "2e7d0ece",
   "metadata": {},
   "outputs": [
    {
     "name": "stdout",
     "output_type": "stream",
     "text": [
      "Input layer : n_x = 2\n",
      "Hidden layer: n_h = 1\n",
      "Output layer: n_y = 1\n"
     ]
    }
   ],
   "source": [
    "# Testando função\n",
    "(n_x, n_h, n_y) = layer_sizes(X=X_train, Y=y_train)\n",
    "print(\"Input layer : n_x = \" + str(n_x))\n",
    "print(\"Hidden layer: n_h = \" + str(n_h))\n",
    "print(\"Output layer: n_y = \" + str(n_y))\n"
   ]
  },
  {
   "cell_type": "code",
   "execution_count": 7,
   "id": "7bc0b889",
   "metadata": {},
   "outputs": [],
   "source": [
    "# Inicialização aleatória de parâmetros\n",
    "def initialize_parameters(n_x, n_h, n_y):\n",
    "\n",
    "    W1 = np.random.randn(n_h, n_x) * 0.01\n",
    "    b1 = np.zeros((n_h, 1))\n",
    "    \n",
    "    assert (W1.shape == (n_h, n_x))\n",
    "    assert (b1.shape == (n_h, 1))\n",
    "    \n",
    "    parameters = {\"W1\": W1,\n",
    "                  \"b1\": b1}\n",
    "    \n",
    "    return parameters\n"
   ]
  },
  {
   "cell_type": "code",
   "execution_count": 8,
   "id": "629fc9c1",
   "metadata": {},
   "outputs": [
    {
     "name": "stdout",
     "output_type": "stream",
     "text": [
      "W1 = [[-0.01085631  0.00997345]]\n",
      "b1 = [[0.]]\n"
     ]
    }
   ],
   "source": [
    "# Testando função\n",
    "parameters = initialize_parameters(n_x, n_h, n_y)\n",
    "\n",
    "print(\"W1 = \" + str(parameters[\"W1\"]))\n",
    "print(\"b1 = \" + str(parameters[\"b1\"]))\n",
    "\n"
   ]
  },
  {
   "cell_type": "code",
   "execution_count": 9,
   "id": "3a41317e",
   "metadata": {},
   "outputs": [],
   "source": [
    "# Criando função de forward propagation\n",
    "def forward_propagation(X, parameters):\n",
    "    \n",
    "    W1 = parameters['W1']\n",
    "    b1 = parameters['b1']\n",
    "\n",
    "    Z1 = W1 @ X + b1\n",
    "    A1 = sigmoid(Z1)\n",
    "\n",
    "    assert(A1.shape == (n_y, X.shape[1]))\n",
    "\n",
    "    cache = {\"Z1\": Z1,\n",
    "             \"A1\": A1}\n",
    "    \n",
    "    return A1, cache\n",
    "\n"
   ]
  },
  {
   "cell_type": "code",
   "execution_count": 10,
   "id": "b4536a98",
   "metadata": {},
   "outputs": [
    {
     "name": "stdout",
     "output_type": "stream",
     "text": [
      "[[0.50249334 0.50498656 0.49977929 0.50227264 0.50476587 0.49955857\n",
      "  0.50205193 0.49684454 0.49163784 0.49662384 0.50747953 0.49457206\n",
      "  0.49706524 0.49185849 0.49435137 0.49933786 0.4891454  0.49413069\n",
      "  0.48643295 0.48892479 0.49141719 0.49391001]]\n"
     ]
    }
   ],
   "source": [
    "# Conferindo resultados\n",
    "A1, cache = forward_propagation(X_train, parameters)\n",
    "\n",
    "print(A1)\n"
   ]
  },
  {
   "cell_type": "code",
   "execution_count": 11,
   "id": "7f829e53",
   "metadata": {},
   "outputs": [],
   "source": [
    "# Calculando custo\n",
    "def compute_cost(A1, Y):\n",
    "    \n",
    "    # Quantidade de exemplos\n",
    "    m = Y.shape[0]\n",
    "    \n",
    "    # Se Y for unidimensional: transformar em um array bidimensional para compatibilidade\n",
    "    if Y.ndim == 1:\n",
    "        Y = Y.reshape(1, -1)\n",
    "        \n",
    "    # Se A1 não estiver no formato (m, 1): ajustar formato\n",
    "    if A1.shape[1] != 1:\n",
    "        A1 = A1.reshape(-1, 1)\n",
    "\n",
    "    # Calculando custo\n",
    "    logloss = -Y * np.log(A1) - (1 - Y) * np.log(1 - A1)\n",
    "    cost = np.sum(logloss) / m\n",
    "    \n",
    "    return cost\n"
   ]
  },
  {
   "cell_type": "code",
   "execution_count": 12,
   "id": "a73922fa",
   "metadata": {},
   "outputs": [
    {
     "name": "stdout",
     "output_type": "stream",
     "text": [
      "Custo = 332.4273404737903\n"
     ]
    }
   ],
   "source": [
    "# Testando a função\n",
    "print(\"Custo = \" + str(compute_cost(A1, y_train)))\n"
   ]
  },
  {
   "cell_type": "code",
   "execution_count": 13,
   "id": "9857a3e3",
   "metadata": {},
   "outputs": [],
   "source": [
    "# Criandon função para o backward propagation\n",
    "def backward_propagation(parameters, cache, X, Y):\n",
    "    \n",
    "    # Capturando a dimensão de X\n",
    "    m = X.shape[1]\n",
    "    \n",
    "    # Recuperando o valor de W1\n",
    "    W1 = parameters[\"W1\"]\n",
    "    \n",
    "    # Recuperando o valor de A1 do objeto cache criado anteriormente\n",
    "    A1 = cache[\"A1\"]\n",
    "    \n",
    "    # Reshape Y para ter a mesma forma de A1\n",
    "    Y = Y.reshape(A1.shape)\n",
    "    \n",
    "    # Backward propagation: calculando derivadas parciais \n",
    "    dZ1 = A1 - Y\n",
    "    dW1 = 1/m * np.dot(dZ1, X.T)\n",
    "    db1 = 1/m * np.sum(dZ1, axis = 1, keepdims = True)\n",
    " \n",
    "    grads = {\"dW1\": dW1,\n",
    "             \"db1\": db1}\n",
    "    \n",
    "    return grads\n"
   ]
  },
  {
   "cell_type": "code",
   "execution_count": 14,
   "id": "29239378",
   "metadata": {},
   "outputs": [
    {
     "name": "stdout",
     "output_type": "stream",
     "text": [
      "dW1 = [[2.36954845 0.36205361]]\n",
      "db1 = [[0.49680182]]\n"
     ]
    }
   ],
   "source": [
    "# Testando a função\n",
    "grads = backward_propagation(parameters, cache, X_train, y_train)\n",
    "\n",
    "print(\"dW1 = \" + str(grads[\"dW1\"]))\n",
    "print(\"db1 = \" + str(grads[\"db1\"]))\n"
   ]
  },
  {
   "cell_type": "code",
   "execution_count": 15,
   "id": "65e3686d",
   "metadata": {},
   "outputs": [],
   "source": [
    "# Função de apredendizado de parâmetros baseada em Gradiente Descendente\n",
    "def update_parameters(parameters, grads, learning_rate=0.8):\n",
    "\n",
    "    W1 = parameters['W1']\n",
    "    b1 = parameters['b1']\n",
    "\n",
    "    \n",
    "    dW1 = grads['dW1']\n",
    "    db1 = grads['db1']\n",
    "   \n",
    "\n",
    "    W1 = W1 - learning_rate * dW1\n",
    "    b1 = b1 - learning_rate * db1\n",
    "\n",
    "    \n",
    "    parameters = {\"W1\": W1,\n",
    "                  \"b1\": b1}\n",
    "    \n",
    "    return parameters\n",
    "\n"
   ]
  },
  {
   "cell_type": "code",
   "execution_count": 16,
   "id": "ae9ebb33",
   "metadata": {},
   "outputs": [
    {
     "name": "stdout",
     "output_type": "stream",
     "text": [
      "W1 updated = [[-1.90649507 -0.27966943]]\n",
      "b1 updated = [[-0.39744145]]\n"
     ]
    }
   ],
   "source": [
    "# Testando função\n",
    "parameters_updated = update_parameters(parameters, grads)\n",
    "\n",
    "print(\"W1 updated = \" + str(parameters_updated[\"W1\"]))\n",
    "print(\"b1 updated = \" + str(parameters_updated[\"b1\"]))\n"
   ]
  },
  {
   "cell_type": "code",
   "execution_count": 17,
   "id": "cd9784c4",
   "metadata": {},
   "outputs": [],
   "source": [
    "# Criando função final de Multilayer Perceptron\n",
    "def nn_model(X, Y, n_h, num_iterations=10, learning_rate=0.5, print_cost=False):\n",
    "\n",
    "    # Dimensões de input e output\n",
    "    n_x = layer_sizes(X, Y)[0]\n",
    "    n_y = layer_sizes(X, Y)[2]\n",
    "    \n",
    "    parameters = initialize_parameters(n_x, n_h, n_y)\n",
    "    \n",
    "    # Loop principal\n",
    "    for i in range(0, num_iterations):\n",
    "        \n",
    "        # Forward propagation\n",
    "        A1, cache = forward_propagation(X, parameters)\n",
    "\n",
    "        # Função de custo\n",
    "        cost = compute_cost(A1, Y)\n",
    "        \n",
    "        # Backpropagation\n",
    "        grads = backward_propagation(parameters, cache, X, Y)\n",
    "        \n",
    "        # Aprendizado via Gradiente Descendente\n",
    "        parameters = update_parameters(parameters, grads, learning_rate)\n",
    "        \n",
    "        # Custo a cada iteração\n",
    "        if print_cost:\n",
    "            print(\"Custo após iteração %i: %f\" %(i, cost))\n",
    "    \n",
    "    # Custo final\n",
    "    print(\"Custo final após iteração %i: %f\" %(i+1, cost))\n",
    "    \n",
    "    return parameters\n"
   ]
  },
  {
   "cell_type": "code",
   "execution_count": 18,
   "id": "493aebd8",
   "metadata": {
    "scrolled": true
   },
   "outputs": [
    {
     "name": "stdout",
     "output_type": "stream",
     "text": [
      "Custo final após iteração 110: 67.116902\n",
      "W1 = [[-1.46913471  0.12064306]]\n",
      "b1 = [[-0.20516692]]\n"
     ]
    }
   ],
   "source": [
    "parameters = nn_model(X_train, y_train, n_h=1, \n",
    "                      num_iterations=110, \n",
    "                      learning_rate=0.01, \n",
    "                      print_cost=False)\n",
    "\n",
    "print(\"W1 = \" + str(parameters[\"W1\"]))\n",
    "print(\"b1 = \" + str(parameters[\"b1\"]))\n",
    "\n",
    "W1 = parameters[\"W1\"]\n",
    "b1 = parameters[\"b1\"]\n"
   ]
  },
  {
   "cell_type": "markdown",
   "id": "99499168",
   "metadata": {},
   "source": [
    "### Criando estimativsas"
   ]
  },
  {
   "cell_type": "code",
   "execution_count": 19,
   "id": "e15d9bc7",
   "metadata": {},
   "outputs": [],
   "source": [
    "# Criando dados\n",
    "# Criando x1 e x2 como uma matriz de inputs, na qual coluna 1 = x1 e coluna 2 = x2\n",
    "X_test = np.array([[0  , 0  ],\n",
    "                   [1  , 0  ],\n",
    "                   [4.5, 0.5],\n",
    "                   [3.5, 1.5],\n",
    "                   [4  , 2.5],\n",
    "                   [1.5, 1.5],\n",
    "                   [2  , 0.5],\n",
    "                   [2.5, 2.5]])\n",
    "\n",
    "# Criando vetor de alvos\n",
    "y_test = np.array([1, -1, -1, 1, 1, 1, -1, 1])\n"
   ]
  },
  {
   "cell_type": "code",
   "execution_count": 20,
   "id": "680e6ea4",
   "metadata": {},
   "outputs": [
    {
     "name": "stdout",
     "output_type": "stream",
     "text": [
      "Forma de X: (2, 8)\n",
      "Forma de Y: (1, 8)\n",
      "Exemplos: 8\n"
     ]
    }
   ],
   "source": [
    "# Ajustando formatos\n",
    "m = X_test.shape[0]\n",
    "X_test = np.transpose(X_test)\n",
    "y_test = y_test.reshape((1, y_test.shape[0]))\n",
    "\n",
    "print ('Forma de X: ' + str(X_test.shape))\n",
    "print ('Forma de Y: ' + str(y_test.shape))\n",
    "print (f\"Exemplos: {m}\")\n"
   ]
  },
  {
   "cell_type": "code",
   "execution_count": 21,
   "id": "3606b86a",
   "metadata": {},
   "outputs": [],
   "source": [
    "def predict(X, parameters):\n",
    "    \n",
    "    predictions = []\n",
    "    \n",
    "    A1, cache = forward_propagation(X, parameters)\n",
    "    \n",
    "    # Iterar sobre cada amostra\n",
    "    for i in range(A1.shape[1]):\n",
    "        # Verificar se o valor em A1 é maior que 0.5\n",
    "        if A1[0, i] > 0.5:\n",
    "            predictions.append(1)\n",
    "        else:\n",
    "            predictions.append(-1)\n",
    "    \n",
    "    return predictions\n"
   ]
  },
  {
   "cell_type": "code",
   "execution_count": 22,
   "id": "9bdc4ce4",
   "metadata": {},
   "outputs": [
    {
     "name": "stdout",
     "output_type": "stream",
     "text": [
      "Estimativas finalizadas\n",
      "Erro Percentual: 62.5%\n",
      "Estimativas    : [-1, -1, -1, -1, -1, -1, -1, -1]\n",
      "Valores Alvo   : [[ 1 -1 -1  1  1  1 -1  1]]\n"
     ]
    }
   ],
   "source": [
    "# Estimando valores\n",
    "y_pred = predict(X_test, parameters)\n",
    "\n",
    "# Calculando erro\n",
    "erro_percent = np.count_nonzero(y_pred != y_test) / m * 100\n",
    "\n",
    "# Comparando resultados\n",
    "print('Estimativas finalizadas')\n",
    "print(f\"Erro Percentual: {erro_percent}%\")\n",
    "print(f\"Estimativas    : {y_pred}\")\n",
    "print(f\"Valores Alvo   : {y_test}\")\n",
    "\n"
   ]
  },
  {
   "cell_type": "markdown",
   "id": "a7539761",
   "metadata": {},
   "source": [
    "**Fim**"
   ]
  }
 ],
 "metadata": {
  "kernelspec": {
   "display_name": "Python 3 (ipykernel)",
   "language": "python",
   "name": "python3"
  },
  "language_info": {
   "codemirror_mode": {
    "name": "ipython",
    "version": 3
   },
   "file_extension": ".py",
   "mimetype": "text/x-python",
   "name": "python",
   "nbconvert_exporter": "python",
   "pygments_lexer": "ipython3",
   "version": "3.9.13"
  }
 },
 "nbformat": 4,
 "nbformat_minor": 5
}
