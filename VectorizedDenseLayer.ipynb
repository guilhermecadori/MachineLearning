{
 "cells": [
  {
   "cell_type": "code",
   "execution_count": 10,
   "id": "3e25abb2",
   "metadata": {},
   "outputs": [],
   "source": [
    "import numpy as np\n",
    "from scipy.special import expit\n"
   ]
  },
  {
   "cell_type": "code",
   "execution_count": 11,
   "id": "4168ddf2",
   "metadata": {},
   "outputs": [],
   "source": [
    "A_T = np.array([200, 17])\n",
    "\n",
    "W = np.array([[1, -3, 5],\n",
    "              [-2, 4, -6]])\n",
    "\n",
    "b = np.array([-1, 2, 2])\n"
   ]
  },
  {
   "cell_type": "code",
   "execution_count": 12,
   "id": "3bce2709",
   "metadata": {},
   "outputs": [],
   "source": [
    "def dense(A_T, W, b):\n",
    "    z = np.matmul(A_T, W) + b\n",
    "    a_out = expit(z)\n",
    "    \n",
    "    return a_out\n"
   ]
  },
  {
   "cell_type": "code",
   "execution_count": 13,
   "id": "ab0a0ed3",
   "metadata": {},
   "outputs": [
    {
     "data": {
      "text/plain": [
       "array([1.00000000e+000, 6.66690998e-231, 1.00000000e+000])"
      ]
     },
     "execution_count": 13,
     "metadata": {},
     "output_type": "execute_result"
    }
   ],
   "source": [
    "dense(A_T, W, b)\n"
   ]
  }
 ],
 "metadata": {
  "kernelspec": {
   "display_name": "Python 3 (ipykernel)",
   "language": "python",
   "name": "python3"
  },
  "language_info": {
   "codemirror_mode": {
    "name": "ipython",
    "version": 3
   },
   "file_extension": ".py",
   "mimetype": "text/x-python",
   "name": "python",
   "nbconvert_exporter": "python",
   "pygments_lexer": "ipython3",
   "version": "3.9.13"
  }
 },
 "nbformat": 4,
 "nbformat_minor": 5
}
