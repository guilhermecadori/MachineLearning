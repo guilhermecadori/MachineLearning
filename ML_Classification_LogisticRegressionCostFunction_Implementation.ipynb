{
 "cells": [
  {
   "cell_type": "code",
   "execution_count": 5,
   "id": "69b92d41",
   "metadata": {},
   "outputs": [],
   "source": [
    "# Implementing the a cost function for logistic regression\n",
    "def costFunction_LogisticReg(x, y, w, b):\n",
    "    \n",
    "    # Importing supporting library\n",
    "    import numpy as np\n",
    "        \n",
    "    # We will need to use the sigmoid function in order to optimize the Cost Function\n",
    "    # Implementation of the sigmoid function (logistic funtion)\n",
    "    def sigmoid(z):\n",
    "        \n",
    "        # Imports supporting library if this fn. is reused without previously calling 'numpy'\n",
    "        g = 1 / (1 + np.exp(-z))\n",
    "        \n",
    "        return g\n",
    "\n",
    "    # Implementing the Cost Function\n",
    "    # Retrieving the dimensions of 'z', in this case [0] means the number os rows/records in the training dataset\n",
    "    # 'm' will be used in the loop below\n",
    "    m = x.shape[0]\n",
    "    \n",
    "    # Setting an initial cost value\n",
    "    cost = 0.0\n",
    "    \n",
    "    # Loop below calculates z for each record of the trining data set \n",
    "    # Loop also updates the values of w and b (model parameters) simultaneously\n",
    "    for i in range(m):\n",
    "        # Calculates the estimate of y for record i\n",
    "        z_i = np.dot(x[i], w) + b\n",
    "        \n",
    "        # Caculates the values of the logistic function\n",
    "        f_wb_i = sigmoid(z_i)\n",
    "        \n",
    "        # Calculates loss for record i\n",
    "        cost += -y[i] * np.log(f_wb_i) - (1 - y[i]) * np.log(1 - f_wb_i)\n",
    "\n",
    "    # Caclulates the averege loss for all the records - aka. \"Cost\" \n",
    "    cost = cost / m\n",
    "    \n",
    "    # Returns Cost\n",
    "    return cost\n"
   ]
  },
  {
   "cell_type": "code",
   "execution_count": 6,
   "id": "2380739c",
   "metadata": {},
   "outputs": [
    {
     "name": "stdout",
     "output_type": "stream",
     "text": [
      "0.36686678640551745\n"
     ]
    }
   ],
   "source": [
    "# Testing the function\n",
    "import numpy as np\n",
    "\n",
    "X_train = np.array([[0.5, 1.5], [1,1], [1.5, 0.5], [3, 0.5], [2, 2], [1, 2.5]])\n",
    "\n",
    "y_train = np.array([0, 0, 0, 1, 1, 1])     \n",
    "\n",
    "w_tmp = np.array([1, 1])\n",
    "\n",
    "b_tmp = -3\n",
    "\n",
    "print(costFunction_LogisticReg(X_train, y_train, w_tmp, b_tmp))\n"
   ]
  },
  {
   "cell_type": "markdown",
   "id": "ff55a019",
   "metadata": {},
   "source": [
    "### End"
   ]
  }
 ],
 "metadata": {
  "kernelspec": {
   "display_name": "Python 3 (ipykernel)",
   "language": "python",
   "name": "python3"
  },
  "language_info": {
   "codemirror_mode": {
    "name": "ipython",
    "version": 3
   },
   "file_extension": ".py",
   "mimetype": "text/x-python",
   "name": "python",
   "nbconvert_exporter": "python",
   "pygments_lexer": "ipython3",
   "version": "3.9.13"
  }
 },
 "nbformat": 4,
 "nbformat_minor": 5
}
