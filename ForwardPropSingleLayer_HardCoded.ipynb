{
 "cells": [
  {
   "cell_type": "code",
   "execution_count": 5,
   "id": "269108cb",
   "metadata": {},
   "outputs": [],
   "source": [
    "import numpy as np\n",
    "from scipy.special import expit\n"
   ]
  },
  {
   "cell_type": "code",
   "execution_count": 9,
   "id": "418f21f2",
   "metadata": {},
   "outputs": [
    {
     "data": {
      "text/plain": [
       "array([[1.00000000e+000],\n",
       "       [2.45261912e-231],\n",
       "       [1.00000000e+000]])"
      ]
     },
     "execution_count": 9,
     "metadata": {},
     "output_type": "execute_result"
    }
   ],
   "source": [
    "x = np.array([200, 17])\n",
    "\n",
    "# Computing Layer 1 outputs - the first \"1\" in the variable name refers to its layer\n",
    "w1_1 = np.array([1, 2])\n",
    "b1_1 = np.array([-1])\n",
    "z1_1 = np.dot(w1_1, x) + b1_1\n",
    "a1_1 = expit(z1_1)\n",
    "\n",
    "w1_2 = np.array([-3, 4])\n",
    "b1_2 = np.array([1])\n",
    "z1_2 = np.dot(w1_2, x) + b1_2\n",
    "a1_2 = expit(z1_2)\n",
    "\n",
    "w1_3 = np.array([5, -6])\n",
    "b1_3 = np.array([2])\n",
    "z1_3 = np.dot(w1_3, x) + b1_3\n",
    "a1_3 = expit(z1_3)\n",
    "\n",
    "a1 = np.array([a1_1, a1_2, a1_3])\n",
    "\n",
    "a1\n"
   ]
  }
 ],
 "metadata": {
  "kernelspec": {
   "display_name": "Python 3 (ipykernel)",
   "language": "python",
   "name": "python3"
  },
  "language_info": {
   "codemirror_mode": {
    "name": "ipython",
    "version": 3
   },
   "file_extension": ".py",
   "mimetype": "text/x-python",
   "name": "python",
   "nbconvert_exporter": "python",
   "pygments_lexer": "ipython3",
   "version": "3.9.13"
  }
 },
 "nbformat": 4,
 "nbformat_minor": 5
}
