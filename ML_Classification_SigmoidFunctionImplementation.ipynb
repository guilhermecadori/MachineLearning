{
 "cells": [
  {
   "cell_type": "code",
   "execution_count": 2,
   "id": "765366ee",
   "metadata": {},
   "outputs": [
    {
     "name": "stdout",
     "output_type": "stream",
     "text": [
      "Input to exp(): [1 2 3]\n",
      "Outpt to exp(): [[ 2.71828183  7.3890561  20.08553692]]\n",
      "Input to exp(): 1\n",
      "Output to exp: 2.718281828459045\n"
     ]
    }
   ],
   "source": [
    "# Implementing the sigmoid function: g(z): 1/(1 + e^-z)\n",
    "\n",
    "# Using exp() function in numpy to calculate the exponential (e^z)\n",
    "\n",
    "# Importing supporting library\n",
    "import numpy as np\n",
    "\n",
    "# Input is an array\n",
    "input_array = np.array([1, 2, 3])\n",
    "exp_array = np.exp([input_array])\n",
    "\n",
    "# Printing inputs and outputs to exp()\n",
    "print('Input to exp():', input_array)\n",
    "print('Outpt to exp():', exp_array)\n",
    "\n",
    "# Testing function with a single value\n",
    "input_val = 1\n",
    "exp_val = np.exp(input_val)\n",
    "\n",
    "print('Input to exp():', input_val)\n",
    "print('Output to exp:', exp_val)\n"
   ]
  },
  {
   "cell_type": "code",
   "execution_count": 3,
   "id": "ad533151",
   "metadata": {},
   "outputs": [],
   "source": [
    "# Implementation of the sigmoid function (logistic funtion)\n",
    "\n",
    "def sigmoid(Z):\n",
    "    # Imports supporting library if this fn. is reused without previously calling 'numpy'\n",
    "    import numpy as np\n",
    "    \n",
    "    g = 1 / (1 + np.exp(-Z))\n",
    "    \n",
    "    return g\n"
   ]
  },
  {
   "cell_type": "code",
   "execution_count": 11,
   "id": "a1f59f28",
   "metadata": {},
   "outputs": [
    {
     "name": "stdout",
     "output_type": "stream",
     "text": [
      "Input (z)   |   Output (g)\n",
      "[[-1.00e+01  4.54e-05]\n",
      " [-9.00e+00  1.23e-04]\n",
      " [-8.00e+00  3.35e-04]\n",
      " [-7.00e+00  9.11e-04]\n",
      " [-6.00e+00  2.47e-03]\n",
      " [-5.00e+00  6.69e-03]\n",
      " [-4.00e+00  1.80e-02]\n",
      " [-3.00e+00  4.74e-02]\n",
      " [-2.00e+00  1.19e-01]\n",
      " [-1.00e+00  2.69e-01]\n",
      " [ 0.00e+00  5.00e-01]\n",
      " [ 1.00e+00  7.31e-01]\n",
      " [ 2.00e+00  8.81e-01]\n",
      " [ 3.00e+00  9.53e-01]\n",
      " [ 4.00e+00  9.82e-01]\n",
      " [ 5.00e+00  9.93e-01]\n",
      " [ 6.00e+00  9.98e-01]\n",
      " [ 7.00e+00  9.99e-01]\n",
      " [ 8.00e+00  1.00e+00]\n",
      " [ 9.00e+00  1.00e+00]\n",
      " [ 1.00e+01  1.00e+00]]\n"
     ]
    }
   ],
   "source": [
    "# Testing the implemented function\n",
    "# Generating data - evenly spaced values between -10 and 10\n",
    "z_test = np.arange(-10, 11)\n",
    "\n",
    "# Calling the implemented function\n",
    "y = sigmoid(z_test)\n",
    "\n",
    "# Printing results in to sid-by-side arrays\n",
    "np.set_printoptions(precision=2)\n",
    "print('Input (z)   |   Output (g)')\n",
    "print(np.c_[z_test, y])\n"
   ]
  },
  {
   "cell_type": "code",
   "execution_count": 24,
   "id": "abf6998c",
   "metadata": {},
   "outputs": [
    {
     "data": {
      "image/png": "[encoded data removed]",
      "text/plain": [
       "<Figure size 500x300 with 1 Axes>"
      ]
     },
     "metadata": {},
     "output_type": "display_data"
    }
   ],
   "source": [
    "# Ploting the function\n",
    "# Importing supporting lib\n",
    "import matplotlib.pyplot as plt\n",
    "\n",
    "# Creating graph objecy\n",
    "fig, ax = plt.subplots(1, 1, figsize=(5, 3))\n",
    "ax.plot(z_test, y, c='b')\n",
    "\n",
    "ax.vlines(x=0, ymin=min(y), ymax=max(y), colors='r', label='x=0')\n",
    "\n",
    "# Creating graph title and axis labels\n",
    "ax.set_title('Implemented Sigmoid Function')\n",
    "ax.set_ylabel('Sigmoid (z)')\n",
    "ax.set_xlabel('z')\n",
    "\n",
    "# Plotting the graph\n",
    "plt.show()\n"
   ]
  },
  {
   "cell_type": "markdown",
   "id": "a6304852",
   "metadata": {},
   "source": [
    "### End"
   ]
  }
 ],
 "metadata": {
  "kernelspec": {
   "display_name": "Python 3 (ipykernel)",
   "language": "python",
   "name": "python3"
  },
  "language_info": {
   "codemirror_mode": {
    "name": "ipython",
    "version": 3
   },
   "file_extension": ".py",
   "mimetype": "text/x-python",
   "name": "python",
   "nbconvert_exporter": "python",
   "pygments_lexer": "ipython3",
   "version": "3.9.13"
  }
 },
 "nbformat": 4,
 "nbformat_minor": 5
}
