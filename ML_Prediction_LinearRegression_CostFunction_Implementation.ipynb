{
 "cells": [
  {
   "cell_type": "code",
   "execution_count": 1,
   "id": "3a464653",
   "metadata": {},
   "outputs": [],
   "source": [
    "# Support libs\n",
    "import numpy as np\n",
    "\n",
    "# Creating data\n",
    "x_train = np.array([1.0, 2.0])\n",
    "y_train = np.array([300.0, 500.0])\n"
   ]
  },
  {
   "cell_type": "code",
   "execution_count": 3,
   "id": "c39ffbb6",
   "metadata": {},
   "outputs": [],
   "source": [
    "# Implementing cost function calculations for linear regrssion\n",
    "def costFunction_LinReg(x, y, w, b):\n",
    "    \n",
    "    # Setting number of training examples\n",
    "    m = x.shape[0]\n",
    "    \n",
    "    # Setting initial cost function value\n",
    "    cost_sum = 0\n",
    "    \n",
    "    # Calculating loss for each training example\n",
    "    for i in range(m):\n",
    "        f_wb = w * x[i] + b\n",
    "        cost = (f_wb - y[i])**2\n",
    "        \n",
    "        # Sumation of costs\n",
    "        cost_sum += cost\n",
    "    \n",
    "    # Calculating cost function value\n",
    "    costFunction_value = (1 / (2 * m)) * cost_sum\n",
    "    \n",
    "    # Returning calculation\n",
    "    return costFunction_value\n"
   ]
  },
  {
   "cell_type": "code",
   "execution_count": 10,
   "id": "af700d8d",
   "metadata": {},
   "outputs": [
    {
     "data": {
      "text/plain": [
       "62.5"
      ]
     },
     "execution_count": 10,
     "metadata": {},
     "output_type": "execute_result"
    }
   ],
   "source": [
    "# Testing function\n",
    "w_ex = 210 # Optimal: 200\n",
    "b_ex = 95 # Optimal: 100\n",
    "\n",
    "costFunction_LinReg(x_train, y_train, w_ex, b_ex)\n"
   ]
  },
  {
   "cell_type": "code",
   "execution_count": null,
   "id": "629f9019",
   "metadata": {},
   "outputs": [],
   "source": []
  }
 ],
 "metadata": {
  "kernelspec": {
   "display_name": "Python 3 (ipykernel)",
   "language": "python",
   "name": "python3"
  },
  "language_info": {
   "codemirror_mode": {
    "name": "ipython",
    "version": 3
   },
   "file_extension": ".py",
   "mimetype": "text/x-python",
   "name": "python",
   "nbconvert_exporter": "python",
   "pygments_lexer": "ipython3",
   "version": "3.9.13"
  }
 },
 "nbformat": 4,
 "nbformat_minor": 5
}
