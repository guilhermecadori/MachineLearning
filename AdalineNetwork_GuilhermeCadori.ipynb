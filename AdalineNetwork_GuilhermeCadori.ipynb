{
 "cells": [
  {
   "cell_type": "markdown",
   "id": "490b2eea",
   "metadata": {},
   "source": [
    "## Adaptative Linear Neuron Network (Adaline Network)"
   ]
  },
  {
   "cell_type": "markdown",
   "id": "f849a6e0",
   "metadata": {},
   "source": [
    "**Autor:** Guilherme Cadori\n",
    "\n",
    "**Data:** 17/03/2024\n"
   ]
  },
  {
   "cell_type": "code",
   "execution_count": 1,
   "id": "56a2313b",
   "metadata": {},
   "outputs": [],
   "source": [
    "# Importando bibliotecas de trabalho\n",
    "import numpy as np\n"
   ]
  },
  {
   "cell_type": "code",
   "execution_count": 2,
   "id": "eb48475b",
   "metadata": {},
   "outputs": [],
   "source": [
    "# Gerando random seed para fins de repetibilidade\n",
    "np.random.seed(123)\n",
    "\n",
    "# Criando uma função para Adaline\n",
    "def adaline(X, y, alpha=0.6, w1=None, w2=None, epsilon=0.001, max_iters=100):\n",
    "    \n",
    "    # Inicializando w aleatóriamente entre -1 e 1\n",
    "    if w1 is None:\n",
    "        w1 = np.random.uniform(-1, 1)\n",
    "    if w2 is None:\n",
    "        w2 = np.random.uniform(-1, 1)\n",
    "    \n",
    "    # Incializando teta = 0 (b = 0)\n",
    "    teta = 0   \n",
    "    \n",
    "    # Inicializando contador de iterações\n",
    "    iteracao = 1\n",
    "    \n",
    "    # Inicializando o erro com um valor elevado\n",
    "    erro = 0\n",
    "    \n",
    "    # Definindo a dimensão m de X para o loop\n",
    "    m = X.shape[0]\n",
    "    \n",
    "    # Inicializando pesos no formato correto\n",
    "    w = np.array([w1, w2])\n",
    "    \n",
    "    # Loop principal de calculo dos valores estimados (y_hat) e ajuste dos parâmetros\n",
    "    while iteracao < max_iters+1:\n",
    "        \n",
    "        # Inicializando o erro para cada iteração\n",
    "        erro_it = 0\n",
    "        \n",
    "        # Calculando y_hat para cada par de entradas da matriz X\n",
    "        for i in range(m):\n",
    "            # Calculando y_hat\n",
    "            y_hat = (X[i] @ w) + teta\n",
    "\n",
    "            # Atribuindo valores a y_hat de acordo com o limiar de decisão abaixo:\n",
    "            y_hat = np.where(y_hat > 0, 1, -1)\n",
    "        \n",
    "            # Ajuste de pesos por Gradiente Descendente (GD), também conhcido por Regra Delta\n",
    "            # Cálculo do erro médio (sugerido em aula)\n",
    "            # Somando o erro para esta amostra à soma total do erro para esta iteração\n",
    "            erro_it += 1/2 * np.sum(((y[i] - y_hat)**2))\n",
    "            \n",
    "            # Ajustando o valor dos parâmetros\n",
    "            # Ajuste via GD (sugerido em aula)\n",
    "            if np.any(y_hat != y):\n",
    "                w = w + alpha * (np.sum(y - y_hat) * X[i])\n",
    "                teta = teta + alpha * np.sum(y - y_hat)\n",
    "            else:\n",
    "                w = w\n",
    "                teta = teta\n",
    "                \n",
    "        # Atualizando o valor do erro\n",
    "        erro = erro_it\n",
    "        \n",
    "        # Verificando critério de parada baseado no erro\n",
    "        if erro <= epsilon:\n",
    "            print('Ajuste de parâmetros concluído.\\n')\n",
    "            print(f\"Os valores dos parâmetros são: w1={w[0]}, w2={w[1]}, teta={teta}.\")\n",
    "\n",
    "            return\n",
    "        \n",
    "        # Apresentando os valores atualizados de w e teta\n",
    "        print(f\"Iteração {iteracao:<5} | Erro: {erro:<5.2f} | w1: {w[0]:<6.2f} w2: {w[1]:<7.2f} | teta: {teta:<7.2f} |\")       \n",
    "\n",
    "        # Atualizando contador de iterações\n",
    "        iteracao += 1\n",
    "\n",
    "    # Limite de iterações atingido\n",
    "    print('\\nLimite de iterações alcançado.\\n')\n",
    "    print(f\"Erro final de {erro: .2f} após {iteracao-1} iterações.\\n\")\n",
    "    print('Os parâmentro finais são:')\n",
    "    print(f\"    w   : {w}\")\n",
    "    print(f\"    teta: {teta}\")\n",
    "\n",
    "    return w[0], w[1], teta\n"
   ]
  },
  {
   "cell_type": "markdown",
   "id": "cce25ac0",
   "metadata": {},
   "source": [
    "### Conjunto de Treinamento"
   ]
  },
  {
   "cell_type": "code",
   "execution_count": 3,
   "id": "0f27042a",
   "metadata": {},
   "outputs": [],
   "source": [
    "# Criando dados\n",
    "# Criando x1 e x2 como uma matriz de inputs, na qual coluna 1 = x1 e coluna 2 = x2\n",
    "X_train = np.array([[0, 1],\n",
    "                    [0, 2],\n",
    "                    [1, 1],\n",
    "                    [1, 2],\n",
    "                    [1, 3],\n",
    "                    [2, 2],\n",
    "                    [2, 3],\n",
    "                    [3, 2],\n",
    "                    [4, 1],\n",
    "                    [4, 3],\n",
    "                    [0, 3],\n",
    "                    [2, 0],\n",
    "                    [2, 1],\n",
    "                    [3, 0],\n",
    "                    [3, 1],\n",
    "                    [3, 3],\n",
    "                    [4, 0],\n",
    "                    [4, 2],\n",
    "                    [5, 0],\n",
    "                    [5, 1],\n",
    "                    [5, 2],\n",
    "                    [5, 3]])\n",
    "\n",
    "# Criando vetor de alvos\n",
    "y_train = np.array([1, 1, 1, 1, 1, 1, 1, 1, 1, 1, 1, -1, -1, -1, -1, -1, -1, -1, -1, -1, -1, -1])\n"
   ]
  },
  {
   "cell_type": "code",
   "execution_count": 4,
   "id": "030ee2a5",
   "metadata": {
    "scrolled": false
   },
   "outputs": [
    {
     "name": "stdout",
     "output_type": "stream",
     "text": [
      "Iteração 1     | Erro: 22.00 | w1: 11.39  w2: 65.57   | teta: 22.00   |\n",
      "Iteração 2     | Erro: 18.00 | w1: 0.39   w2: 87.57   | teta: 0.00    |\n",
      "Iteração 3     | Erro: 14.00 | w1: 33.39  w2: 65.57   | teta: -22.00  |\n",
      "Iteração 4     | Erro: 18.00 | w1: 22.39  w2: 87.57   | teta: -44.00  |\n",
      "Iteração 5     | Erro: 18.00 | w1: -10.61 w2: -0.43   | teta: -66.00  |\n",
      "Iteração 6     | Erro: 24.00 | w1: 22.39  w2: 87.57   | teta: -22.00  |\n",
      "Iteração 7     | Erro: 20.00 | w1: -76.61 w2: 21.57   | teta: -66.00  |\n",
      "Iteração 8     | Erro: 20.00 | w1: 22.39  w2: 65.57   | teta: -22.00  |\n",
      "Iteração 9     | Erro: 20.00 | w1: 11.39  w2: -44.43  | teta: -66.00  |\n",
      "Iteração 10    | Erro: 26.00 | w1: 44.39  w2: 43.57   | teta: -44.00  |\n",
      "Iteração 11    | Erro: 22.00 | w1: -76.61 w2: 21.57   | teta: -66.00  |\n",
      "Iteração 12    | Erro: 20.00 | w1: 22.39  w2: 65.57   | teta: -22.00  |\n",
      "Iteração 13    | Erro: 20.00 | w1: 11.39  w2: -44.43  | teta: -66.00  |\n",
      "Iteração 14    | Erro: 26.00 | w1: 44.39  w2: 43.57   | teta: -44.00  |\n",
      "Iteração 15    | Erro: 22.00 | w1: -76.61 w2: 21.57   | teta: -66.00  |\n",
      "Iteração 16    | Erro: 20.00 | w1: 22.39  w2: 65.57   | teta: -22.00  |\n",
      "Iteração 17    | Erro: 20.00 | w1: 11.39  w2: -44.43  | teta: -66.00  |\n",
      "Iteração 18    | Erro: 26.00 | w1: 44.39  w2: 43.57   | teta: -44.00  |\n",
      "Iteração 19    | Erro: 22.00 | w1: -76.61 w2: 21.57   | teta: -66.00  |\n",
      "Iteração 20    | Erro: 20.00 | w1: 22.39  w2: 65.57   | teta: -22.00  |\n",
      "Iteração 21    | Erro: 20.00 | w1: 11.39  w2: -44.43  | teta: -66.00  |\n",
      "Iteração 22    | Erro: 26.00 | w1: 44.39  w2: 43.57   | teta: -44.00  |\n",
      "Iteração 23    | Erro: 22.00 | w1: -76.61 w2: 21.57   | teta: -66.00  |\n",
      "Iteração 24    | Erro: 20.00 | w1: 22.39  w2: 65.57   | teta: -22.00  |\n",
      "Iteração 25    | Erro: 20.00 | w1: 11.39  w2: -44.43  | teta: -66.00  |\n",
      "Iteração 26    | Erro: 26.00 | w1: 44.39  w2: 43.57   | teta: -44.00  |\n",
      "Iteração 27    | Erro: 22.00 | w1: -76.61 w2: 21.57   | teta: -66.00  |\n",
      "Iteração 28    | Erro: 20.00 | w1: 22.39  w2: 65.57   | teta: -22.00  |\n",
      "Iteração 29    | Erro: 20.00 | w1: 11.39  w2: -44.43  | teta: -66.00  |\n",
      "Iteração 30    | Erro: 26.00 | w1: 44.39  w2: 43.57   | teta: -44.00  |\n",
      "\n",
      "Limite de iterações alcançado.\n",
      "\n",
      "Erro final de  26.00 após 30 iterações.\n",
      "\n",
      "Os parâmentro finais são:\n",
      "    w   : [44.39293837 43.57227867]\n",
      "    teta: -44.0\n"
     ]
    }
   ],
   "source": [
    "# Rodando o algoritmo\n",
    "w1, w2, teta = adaline(X=X_train, y=y_train, alpha=0.5, max_iters=30)\n"
   ]
  },
  {
   "cell_type": "code",
   "execution_count": 5,
   "id": "415bbc9d",
   "metadata": {},
   "outputs": [
    {
     "name": "stdout",
     "output_type": "stream",
     "text": [
      "w1 = 44.392938371195726\n",
      "w2 = 43.572278669900754\n",
      "teta = -44.0\n"
     ]
    }
   ],
   "source": [
    "# Conferindo valores retornados pela função\n",
    "print(f\"w1 = {w1}\")\n",
    "print(f\"w2 = {w2}\")\n",
    "print(f\"teta = {teta}\")\n"
   ]
  },
  {
   "cell_type": "markdown",
   "id": "78a6d92b",
   "metadata": {},
   "source": [
    "### Conjunto de Teste"
   ]
  },
  {
   "cell_type": "code",
   "execution_count": 6,
   "id": "25ad00e0",
   "metadata": {},
   "outputs": [],
   "source": [
    "# Criando dados\n",
    "# Criando x1 e x2 como uma matriz de inputs, na qual coluna 1 = x1 e coluna 2 = x2\n",
    "X = np.array([[0  , 0  ],\n",
    "              [1  , 0  ],\n",
    "              [4.5, 0.5],\n",
    "              [3.5, 1.5],\n",
    "              [4  , 2.5],\n",
    "              [1.5, 1.5],\n",
    "              [2  , 0.5],\n",
    "              [2.5, 2.5]])\n",
    "\n",
    "# Criando vetor de alvos\n",
    "y = np.array([1, -1, -1, 1, 1, 1, -1, 1])\n"
   ]
  },
  {
   "cell_type": "markdown",
   "id": "7cd0146e",
   "metadata": {},
   "source": [
    "### Gerando estimativas"
   ]
  },
  {
   "cell_type": "code",
   "execution_count": 7,
   "id": "c0acc0a9",
   "metadata": {},
   "outputs": [],
   "source": [
    "# Criando função para gerar estimativas\n",
    "def adaline_predict(X, y, w1, w2, teta):\n",
    "\n",
    "    # Inicializando o vetor de valores estimados\n",
    "    y_hat_vector = []\n",
    "\n",
    "    # Dimensão m de X\n",
    "    m = X.shape[0]\n",
    "    \n",
    "    # Calculando y_hat para cada amostra\n",
    "    for i in range(m):\n",
    "        y_hat = X[i, 0] * w1 + X[i, 1] * w2 + teta\n",
    "        \n",
    "        # Atribuindo valores a y_hat de acordo com o limiar de decisão abaixo:\n",
    "        y_hat = np.where(y_hat > 0, 1, -1)\n",
    "        \n",
    "        # Adicionando estimativa ao vetor de estimativas\n",
    "        y_hat_vector.append(y_hat)\n",
    "    \n",
    "    # Convertendo o vetor para numpy array\n",
    "    y_hat_vector = np.array(y_hat_vector)\n",
    "    \n",
    "    # Calculando erro\n",
    "    erro_percent = np.count_nonzero(y_hat != y) / len(y) * 100\n",
    "    \n",
    "    print('Estimativas finalizadas')\n",
    "    print(f\"Erro Percentual: {erro_percent}%\")\n",
    "    print(f\"Valores Estimados: {y_hat_vector}\")\n",
    "    print(f\"Valores Alvo:      {y}\")\n",
    "\n",
    "    return\n"
   ]
  },
  {
   "cell_type": "code",
   "execution_count": 8,
   "id": "8d8b8429",
   "metadata": {
    "scrolled": true
   },
   "outputs": [
    {
     "name": "stdout",
     "output_type": "stream",
     "text": [
      "Estimativas finalizadas\n",
      "Erro Percentual: 37.5%\n",
      "Valores Estimados: [-1  1  1  1  1  1  1  1]\n",
      "Valores Alvo:      [ 1 -1 -1  1  1  1 -1  1]\n"
     ]
    }
   ],
   "source": [
    "# Gerando estimativas\n",
    "adaline_predict(X=X, y=y, w1=w1, w2=w2, teta=teta)\n"
   ]
  },
  {
   "cell_type": "markdown",
   "id": "a7539761",
   "metadata": {},
   "source": [
    "**Fim**"
   ]
  }
 ],
 "metadata": {
  "kernelspec": {
   "display_name": "Python 3 (ipykernel)",
   "language": "python",
   "name": "python3"
  },
  "language_info": {
   "codemirror_mode": {
    "name": "ipython",
    "version": 3
   },
   "file_extension": ".py",
   "mimetype": "text/x-python",
   "name": "python",
   "nbconvert_exporter": "python",
   "pygments_lexer": "ipython3",
   "version": "3.9.13"
  }
 },
 "nbformat": 4,
 "nbformat_minor": 5
}
